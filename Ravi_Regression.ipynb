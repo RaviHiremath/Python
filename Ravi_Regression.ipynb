{
 "cells": [
  {
   "cell_type": "code",
   "execution_count": 24,
   "id": "a5e2450e",
   "metadata": {},
   "outputs": [
    {
     "name": "stdout",
     "output_type": "stream",
     "text": [
      "[-2.52625878e-03 -1.08762336e-01  4.80307622e-02  1.99323137e-02\n",
      "  2.70524534e+00 -1.75416021e+01  3.83922506e+00 -1.93844593e-03\n",
      " -1.49330389e+00  3.24925469e-01 -1.15975305e-02 -9.47985187e-01\n",
      "  9.35664033e-03 -5.26183831e-01]\n",
      "36.461351871167\n"
     ]
    }
   ],
   "source": [
    "# Linear Regression for the Boston data\n",
    "# I got the same results in the KNime with SE's\n",
    "\n",
    "import pandas as pd\n",
    "import numpy as np\n",
    "from sklearn.linear_model import LinearRegression\n",
    "\n",
    "df=pd.read_csv('Boston.CSV')\n",
    "y=df['medv'] #DV\n",
    "x=df.drop(['medv'],axis=1) #IVs\n",
    "\n",
    "regressor=LinearRegression()\n",
    "regressor.fit(x,y)\n",
    "print(regressor.coef_)\n",
    "\n",
    "print(regressor.intercept_) # Here intercept is 36.461"
   ]
  },
  {
   "cell_type": "code",
   "execution_count": null,
   "id": "43a4e293",
   "metadata": {},
   "outputs": [],
   "source": []
  }
 ],
 "metadata": {
  "kernelspec": {
   "display_name": "Python 3 (ipykernel)",
   "language": "python",
   "name": "python3"
  },
  "language_info": {
   "codemirror_mode": {
    "name": "ipython",
    "version": 3
   },
   "file_extension": ".py",
   "mimetype": "text/x-python",
   "name": "python",
   "nbconvert_exporter": "python",
   "pygments_lexer": "ipython3",
   "version": "3.9.13"
  }
 },
 "nbformat": 4,
 "nbformat_minor": 5
}
